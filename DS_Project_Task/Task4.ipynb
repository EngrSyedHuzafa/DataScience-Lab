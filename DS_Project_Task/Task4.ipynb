{
 "cells": [
  {
   "cell_type": "code",
   "execution_count": 5,
   "id": "14b8dc3e-9a1f-43c0-a94c-3e9b5475be63",
   "metadata": {},
   "outputs": [],
   "source": [
    "import yfinance as yf\n",
    "import pandas as pd\n",
    "from bs4 import BeautifulSoup\n",
    "import requests\n",
    "import plotly.graph_objects as go"
   ]
  },
  {
   "cell_type": "markdown",
   "id": "1d735a16-11b0-4eaf-99d6-af7a54472a95",
   "metadata": {},
   "source": [
    "# Question 4 - Extracting GameStop Revenue Data Using Webscraping"
   ]
  },
  {
   "cell_type": "code",
   "execution_count": 9,
   "id": "4cdc50c1-b638-4a04-887f-d5f434bfb4f1",
   "metadata": {},
   "outputs": [
    {
     "name": "stdout",
     "output_type": "stream",
     "text": [
      "GameStop Quarterly Revenue (Last 5 Rows):\n",
      "                            Date  Revenue\n",
      "12 1970-01-01 00:00:00.000002013   8887.0\n",
      "13 1970-01-01 00:00:00.000002012   9551.0\n",
      "14 1970-01-01 00:00:00.000002011   9474.0\n",
      "15 1970-01-01 00:00:00.000002010   9078.0\n",
      "16 1970-01-01 00:00:00.000002009   8806.0\n"
     ]
    },
    {
     "name": "stderr",
     "output_type": "stream",
     "text": [
      "C:\\Users\\HP\\AppData\\Local\\Temp\\ipykernel_17392\\493543859.py:13: FutureWarning: Passing literal html to 'read_html' is deprecated and will be removed in a future version. To read from a literal string, wrap it in a 'StringIO' object.\n",
      "  df = pd.read_html(str(table))[0]\n"
     ]
    }
   ],
   "source": [
    "\n",
    "def scrape_gamestop_revenue():\n",
    "    url = \"https://www.macrotrends.net/stocks/charts/GME/gamestop/revenue\"\n",
    "    res = requests.get(url, headers={'User-Agent':'Mozilla/5.0'})\n",
    "    res.raise_for_status()\n",
    "    soup = BeautifulSoup(res.text, \"html.parser\")\n",
    "    for table in soup.find_all('table'):\n",
    "        df = pd.read_html(str(table))[0]\n",
    "        if df.shape[1] >= 2 and 'Revenue' in df.columns[1]:\n",
    "            df.columns = [\"Date\", \"Revenue\"] + list(df.columns[2:])\n",
    "            df = df[df['Revenue'].astype(str).str.strip() != \"\"]\n",
    "            df['Revenue'] = (\n",
    "                df['Revenue']\n",
    "                .astype(str)\n",
    "                .str.replace(r\"[\\$,]\", \"\", regex=True)\n",
    "                .astype(float)\n",
    "            )\n",
    "            df['Date'] = pd.to_datetime(df['Date'])\n",
    "            return df.reset_index(drop=True)\n",
    "    raise ValueError(\"GameStop revenue table not found\")\n",
    "\n",
    "gme_revenue = scrape_gamestop_revenue()\n",
    "print(\"GameStop Quarterly Revenue (Last 5 Rows):\")\n",
    "print(gme_revenue.tail(5))\n"
   ]
  },
  {
   "cell_type": "code",
   "execution_count": null,
   "id": "0e3e5dd9-29ba-4de8-a623-62d2c86bcb42",
   "metadata": {},
   "outputs": [],
   "source": []
  }
 ],
 "metadata": {
  "kernelspec": {
   "display_name": "Python 3 (ipykernel)",
   "language": "python",
   "name": "python3"
  },
  "language_info": {
   "codemirror_mode": {
    "name": "ipython",
    "version": 3
   },
   "file_extension": ".py",
   "mimetype": "text/x-python",
   "name": "python",
   "nbconvert_exporter": "python",
   "pygments_lexer": "ipython3",
   "version": "3.12.4"
  }
 },
 "nbformat": 4,
 "nbformat_minor": 5
}
