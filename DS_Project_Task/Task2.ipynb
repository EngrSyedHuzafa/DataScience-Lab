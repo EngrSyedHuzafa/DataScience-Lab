{
 "cells": [
  {
   "cell_type": "code",
   "execution_count": 2,
   "id": "370bc9e9-cc3b-4051-96b5-5683ebf0ac16",
   "metadata": {},
   "outputs": [],
   "source": [
    "import yfinance as yf\n",
    "import pandas as pd\n",
    "from bs4 import BeautifulSoup\n",
    "import requests\n",
    "import plotly.graph_objects as go"
   ]
  },
  {
   "cell_type": "markdown",
   "id": "0c5d688a-1fcb-4a11-bc40-2820cbd62109",
   "metadata": {},
   "source": [
    "# Question 2 - Extracting Tesla Revenue Data Using Webscraping"
   ]
  },
  {
   "cell_type": "code",
   "execution_count": 6,
   "id": "512a939d-5caf-47e6-bad1-c45a8bca7f32",
   "metadata": {},
   "outputs": [
    {
     "name": "stdout",
     "output_type": "stream",
     "text": [
      "Tesla Quarterly Revenue (Last 5 Rows):\n",
      "                            Date  Revenue\n",
      "11 1970-01-01 00:00:00.000002013   2013.0\n",
      "12 1970-01-01 00:00:00.000002012    413.0\n",
      "13 1970-01-01 00:00:00.000002011    204.0\n",
      "14 1970-01-01 00:00:00.000002010    117.0\n",
      "15 1970-01-01 00:00:00.000002009    112.0\n"
     ]
    },
    {
     "name": "stderr",
     "output_type": "stream",
     "text": [
      "C:\\Users\\HP\\AppData\\Local\\Temp\\ipykernel_19304\\392029539.py:13: FutureWarning: Passing literal html to 'read_html' is deprecated and will be removed in a future version. To read from a literal string, wrap it in a 'StringIO' object.\n",
      "  df = pd.read_html(str(table))[0]\n"
     ]
    }
   ],
   "source": [
    "def scrape_tesla_revenue():\n",
    "    url = \"https://www.macrotrends.net/stocks/charts/TSLA/tesla/revenue\"\n",
    "    res = requests.get(url, headers={'User-Agent':'Mozilla/5.0'})\n",
    "    res.raise_for_status()\n",
    "    soup = BeautifulSoup(res.text, \"html.parser\")\n",
    "    for table in soup.find_all('table'):\n",
    "        df = pd.read_html(str(table))[0]\n",
    "        if df.shape[1] >= 2 and 'Revenue' in df.columns[1]:\n",
    "            df.columns = [\"Date\", \"Revenue\"] + list(df.columns[2:])\n",
    "            df = df[df['Revenue'].astype(str).str.strip() != \"\"]\n",
    "            df['Revenue'] = (\n",
    "                df['Revenue']\n",
    "                .astype(str)\n",
    "                .str.replace(r\"[\\$,]\", \"\", regex=True)\n",
    "                .astype(float)\n",
    "            )\n",
    "            df['Date'] = pd.to_datetime(df['Date'])\n",
    "            return df.reset_index(drop=True)\n",
    "    raise ValueError(\"Tesla revenue table not found\")\n",
    "tsla_revenue = scrape_tesla_revenue()\n",
    "print(\"Tesla Quarterly Revenue (Last 5 Rows):\")\n",
    "print(tsla_revenue.tail(5))\n"
   ]
  },
  {
   "cell_type": "code",
   "execution_count": null,
   "id": "95e2a641-10cc-4d16-931e-63646da41125",
   "metadata": {},
   "outputs": [],
   "source": []
  }
 ],
 "metadata": {
  "kernelspec": {
   "display_name": "Python 3 (ipykernel)",
   "language": "python",
   "name": "python3"
  },
  "language_info": {
   "codemirror_mode": {
    "name": "ipython",
    "version": 3
   },
   "file_extension": ".py",
   "mimetype": "text/x-python",
   "name": "python",
   "nbconvert_exporter": "python",
   "pygments_lexer": "ipython3",
   "version": "3.12.4"
  }
 },
 "nbformat": 4,
 "nbformat_minor": 5
}
