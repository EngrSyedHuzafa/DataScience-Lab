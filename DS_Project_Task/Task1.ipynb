{
 "cells": [
  {
   "cell_type": "code",
   "execution_count": 30,
   "id": "dfaae64b-da23-4424-bf23-ccb0b3dd6161",
   "metadata": {},
   "outputs": [],
   "source": [
    "import yfinance as yf\n",
    "import pandas as pd\n",
    "from bs4 import BeautifulSoup\n",
    "import requests\n",
    "import plotly.graph_objects as go"
   ]
  },
  {
   "cell_type": "markdown",
   "id": "2e7ef9f9-c729-4177-a079-6472974a65e1",
   "metadata": {},
   "source": [
    "# Question 1 - Extracting Tesla Stock Data Using yfinance"
   ]
  },
  {
   "cell_type": "code",
   "execution_count": 42,
   "id": "02fe6fda-82a0-4c8f-b2f9-39fdbcace83c",
   "metadata": {},
   "outputs": [
    {
     "name": "stdout",
     "output_type": "stream",
     "text": [
      "Tesla Stock Data (First 10 Rows):\n",
      "\n",
      "                       Date      Open      High       Low     Close  \\\n",
      "0 2010-06-29 00:00:00-04:00  1.266667  1.666667  1.169333  1.592667   \n",
      "1 2010-06-30 00:00:00-04:00  1.719333  2.028000  1.553333  1.588667   \n",
      "2 2010-07-01 00:00:00-04:00  1.666667  1.728000  1.351333  1.464000   \n",
      "3 2010-07-02 00:00:00-04:00  1.533333  1.540000  1.247333  1.280000   \n",
      "4 2010-07-06 00:00:00-04:00  1.333333  1.333333  1.055333  1.074000   \n",
      "5 2010-07-07 00:00:00-04:00  1.093333  1.108667  0.998667  1.053333   \n",
      "6 2010-07-08 00:00:00-04:00  1.076000  1.168000  1.038000  1.164000   \n",
      "7 2010-07-09 00:00:00-04:00  1.172000  1.193333  1.103333  1.160000   \n",
      "8 2010-07-12 00:00:00-04:00  1.196667  1.204667  1.133333  1.136667   \n",
      "9 2010-07-13 00:00:00-04:00  1.159333  1.242667  1.126667  1.209333   \n",
      "\n",
      "      Volume  Dividends  Stock Splits  \n",
      "0  281494500        0.0           0.0  \n",
      "1  257806500        0.0           0.0  \n",
      "2  123282000        0.0           0.0  \n",
      "3   77097000        0.0           0.0  \n",
      "4  103003500        0.0           0.0  \n",
      "5  103825500        0.0           0.0  \n",
      "6  115671000        0.0           0.0  \n",
      "7   60759000        0.0           0.0  \n",
      "8   33037500        0.0           0.0  \n",
      "9   40201500        0.0           0.0  \n"
     ]
    }
   ],
   "source": [
    "\n",
    "tesla = yf.Ticker(\"TSLA\")\n",
    "tesla_data = tesla.history(period=\"max\")\n",
    "tesla_data.reset_index(inplace=True)\n",
    "print(\"Tesla Stock Data (First 10 Rows):\\n\")\n",
    "print(tesla_data.head(10))"
   ]
  }
 ],
 "metadata": {
  "kernelspec": {
   "display_name": "Python 3 (ipykernel)",
   "language": "python",
   "name": "python3"
  },
  "language_info": {
   "codemirror_mode": {
    "name": "ipython",
    "version": 3
   },
   "file_extension": ".py",
   "mimetype": "text/x-python",
   "name": "python",
   "nbconvert_exporter": "python",
   "pygments_lexer": "ipython3",
   "version": "3.12.4"
  }
 },
 "nbformat": 4,
 "nbformat_minor": 5
}
