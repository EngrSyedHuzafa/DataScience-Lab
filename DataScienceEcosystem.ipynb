{
 "cells": [
  {
   "cell_type": "markdown",
   "id": "f3064dae-72e7-438b-a74b-5525b01b0b84",
   "metadata": {},
   "source": [
    "# Data Science Tools and Ecosystem"
   ]
  },
  {
   "cell_type": "markdown",
   "id": "fa696150-ee80-4be4-9bcd-8e1231b35416",
   "metadata": {},
   "source": [
    "# In this notebook, Data Science Tools and Ecosystem are summarized."
   ]
  },
  {
   "cell_type": "markdown",
   "id": "6be2d9b2-b34d-4aef-91f6-387c842c3ebd",
   "metadata": {},
   "source": [
    "# Some of the popular languages that Data Scientists use are:\n",
    "1. Python\n",
    "2. R\n",
    "3. Java"
   ]
  },
  {
   "cell_type": "markdown",
   "id": "4de5f13a-a44d-4787-8c6d-5d4c3f170e49",
   "metadata": {},
   "source": [
    "# Some of the commonly used libraries used by Data Scientists include:\n",
    "1. Pandas\n",
    "2. numpy\n",
    "3. Matplotlib"
   ]
  },
  {
   "cell_type": "markdown",
   "id": "0c2530fe-5db5-4469-a0a7-e3801ca4fcda",
   "metadata": {},
   "source": [
    "# table of Data Science tools\n",
    "|Data Science Tools|\n",
    "|------------------|\n",
    "|Jupyter Notebook|\n",
    "|RStudio|\n",
    "|Apache Zeppeline|"
   ]
  },
  {
   "cell_type": "markdown",
   "id": "45dfae16-eac7-434b-af46-ee0e8aa814c4",
   "metadata": {},
   "source": [
    "### Below are a few examples of evaluating arithmetic expressions in Python.  \n",
    "\n",
    "1. Addition: `5 + 3` results in `8`  \n",
    "2. Subtraction: `10 - 4` results in `6`  \n",
    "3. Multiplication: `7 * 6` results in `42`  \n",
    "4. Division: `20 / 5` results in `4`  \n",
    "5. Modulus: `10 % 3` results in `1`  \n",
    "6. Exponentiation: `2 ** 3` results in `8`"
   ]
  },
  {
   "cell_type": "code",
   "execution_count": 12,
   "id": "687ef01e-1924-493b-92ed-9541d40667bb",
   "metadata": {},
   "outputs": [
    {
     "data": {
      "text/plain": [
       "17"
      ]
     },
     "execution_count": 12,
     "metadata": {},
     "output_type": "execute_result"
    }
   ],
   "source": [
    "# This is a simple arithmetic expression to multiply then add integers.  \n",
    "result = (3 * 4) + 5  \n",
    "result"
   ]
  },
  {
   "cell_type": "code",
   "execution_count": 14,
   "id": "155cfa59-d49b-4ef7-84c5-5d0b6042bdee",
   "metadata": {},
   "outputs": [
    {
     "data": {
      "text/plain": [
       "3.3333333333333335"
      ]
     },
     "execution_count": 14,
     "metadata": {},
     "output_type": "execute_result"
    }
   ],
   "source": [
    "# This will convert 200 minutes to hours by dividing by 60.  \n",
    "minutes=200  \n",
    "hours=minutes/60  \n",
    "hours"
   ]
  },
  {
   "cell_type": "markdown",
   "id": "d11aecaf-8840-44d0-bea1-7f52000ff3c5",
   "metadata": {},
   "source": [
    "**Objectives:** \n",
    "\n",
    "- Understand basic arithmetic operations in Python  \n",
    "- Convert minutes to hours using a mathematical expression  \n",
    "- Evaluate and display the results of mathematical computations  \n",
    "- Learn how to create and format markdown cells in Jupyter notebooks  \n",
    "- List popular languages for Data Science"
   ]
  },
  {
   "cell_type": "markdown",
   "id": "7a82ae76-3d72-433c-bc29-ca9042ea003b",
   "metadata": {},
   "source": [
    "## Author  \n",
    "\n",
    "[Syed Huzafa Ali]"
   ]
  }
 ],
 "metadata": {
  "kernelspec": {
   "display_name": "Python 3 (ipykernel)",
   "language": "python",
   "name": "python3"
  },
  "language_info": {
   "codemirror_mode": {
    "name": "ipython",
    "version": 3
   },
   "file_extension": ".py",
   "mimetype": "text/x-python",
   "name": "python",
   "nbconvert_exporter": "python",
   "pygments_lexer": "ipython3",
   "version": "3.12.4"
  }
 },
 "nbformat": 4,
 "nbformat_minor": 5
}
